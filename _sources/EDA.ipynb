{
 "cells": [
  {
   "cell_type": "markdown",
   "id": "a201239c",
   "metadata": {},
   "source": [
    "# Importancia del análisis estadístico en salud pública.\n",
    "### Análisis Exploratorio de Datos (EDA)"
   ]
  }
 ],
 "metadata": {
  "language_info": {
   "name": "python"
  }
 },
 "nbformat": 4,
 "nbformat_minor": 5
}
