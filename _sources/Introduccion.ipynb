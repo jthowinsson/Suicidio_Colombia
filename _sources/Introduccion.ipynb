{
 "cells": [
  {
   "cell_type": "markdown",
   "id": "db6893ed",
   "metadata": {},
   "source": [
    "# Introducción\n",
    "\n",
    "```{figure} images/Portada.png\n",
    ":height: 300px\n",
    ":align: center\n",
    ":name: portada2\n",
    "\n",
    "Campaña de prevención del suicidio, Colombia.\n",
    "\n",
    "El suicidio es el acto deliberado mediante el cual una persona decide poner fin a su propia vida, constituyendo una problemática compleja que integra dimensiones psicológicas, sociales, culturales y biológicas. No existe una definición única y universal, pero en el ámbito de la salud pública y la psicología se reconoce como una acción autoinfligida con el propósito directo de provocar la muerte, bien sea de manera activa o pasiva {cite}`psicysalud2021, oms2025, ops2025`.\n",
    "\n",
    "El suicidio es uno de los principales problemas de salud pública a nivel mundial y está íntimamente vinculado con la salud mental. La evidencia científica señala que la mayoría de los suicidios están precedidos por trastornos mentales, especialmente depresión, trastorno bipolar, esquizofrenia, trastornos de personalidad y abuso de sustancias psicoactivas. De hecho, hasta el 95% de quienes mueren por suicidio presentan un diagnóstico psiquiátrico previo {cite}`msdmanual2025, psicysalud2021`.\n",
    "\n",
    "Según la Organización Mundial de la Salud, más de 720,000 personas fallecen anualmente por esta causa, ubicándose como una de las principales causas de muerte en adolescentes y adultos jóvenes {cite}`oms2025, ops2025`. Los intentos de suicidio y la ideación suicida — pensamientos recurrentes de autolesión o muerte — forman parte del espectro del comportamiento suicida y tienen una base principalmente psicológica y emocional, relacionada con alteraciones en la salud mental.\n",
    "\n",
    "Existen múltiples factores de riesgo que contribuyen al suicidio: aislamiento social, desesperanza, problemas económicos, crisis familiares o personales y falta de apoyo emocional, todos estrechamente asociados con la desestabilización de la salud mental. La literatura reporta que el suicidio está rodeado de estigma y tabúes sociales, dificultando su prevención. Sin embargo, debe entenderse como un evento prevenible, abordando adecuadamente la salud mental mediante políticas integrales, intervenciones basadas en evidencia y fortalecimiento de factores protectores en la comunidad {cite}`ops2025, oms2025, msdmanual2025`.\n",
    "\n",
    "Por su magnitud y multidimensionalidad, el suicidio exige un enfoque científico, interdisciplinario y ético desde la perspectiva de la salud mental y la salud pública."
   ]
  },
  {
   "cell_type": "markdown",
   "id": "1a65b293",
   "metadata": {},
   "source": [
    "## Contexto del suicidio en Colombia.\n",
    "\n",
    "En Colombia, el suicidio ha surgido como una preocupación creciente en la última década, reflejando una realidad social y de salud mental que afecta especialmente a jóvenes y poblaciones vulnerables. Entre los años 2015 y 2023, los datos oficiales registraron un aumento en las tasas de suicidio, con un enfoque particular en grupos como los jóvenes de 18 a 28 años y comunidades indígenas, donde las dificultades para acceder a servicios de salud mental agravan el problema {cite}`datosgovcol2025`.\n",
    "\n",
    "Las cifras oficiales de Colombia resaltan que este fenómeno no solo es un reflejo de problemas individuales, sino que también está influenciado por factores sociales como la violencia, la desigualdad, el desplazamiento forzado y las secuelas económicas y emocionales de la pandemia. Además, la estigmatización alrededor de la salud mental y el suicidio dificulta la búsqueda de ayuda y la implementación efectiva de políticas de prevención.\n",
    "\n",
    "Este contexto colombiano particular, caracterizado por complejidades sociales y desigualdades regionales, refuerza la necesidad de estudios que permitan explicar y predecir el suicidio dentro del país, para así apoyar estrategias públicas y comunitarias más sensibles y eficaces.\n",
    "\n",
    "Esta visión desde los datos oficiales y el contexto social permite anclar tu análisis en la realidad colombiana actual, subrayando la importancia de modelos estadísticos que puedan contribuir a la prevención y atención personalizada en salud mental."
   ]
  }
 ],
 "metadata": {
  "kernelspec": {
   "display_name": "ml_venv",
   "language": "python",
   "name": "python3"
  },
  "language_info": {
   "codemirror_mode": {
    "name": "ipython",
    "version": 3
   },
   "file_extension": ".py",
   "mimetype": "text/x-python",
   "name": "python",
   "nbconvert_exporter": "python",
   "pygments_lexer": "ipython3",
   "version": "3.9.15"
  }
 },
 "nbformat": 4,
 "nbformat_minor": 5
}
