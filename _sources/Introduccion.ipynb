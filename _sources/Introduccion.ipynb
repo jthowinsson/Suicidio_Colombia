{
 "cells": [
  {
   "cell_type": "markdown",
   "id": "efec8bf9",
   "metadata": {},
   "source": [
    "# Introducción"
   ]
  },
  {
   "cell_type": "markdown",
   "id": "dd6582cc",
   "metadata": {},
   "source": [
    "## Contexto del suicidio en Colombia"
   ]
  }
 ],
 "metadata": {
  "language_info": {
   "name": "python"
  }
 },
 "nbformat": 4,
 "nbformat_minor": 5
}
