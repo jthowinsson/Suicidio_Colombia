{
 "cells": [
  {
   "cell_type": "markdown",
   "id": "e0823ed5",
   "metadata": {},
   "source": [
    "# Introducción"
   ]
  },
  {
   "cell_type": "markdown",
   "id": "db6893ed",
   "metadata": {},
   "source": [
    "El suicidio es el acto deliberado mediante el cual una persona decide poner fin a su propia vida, constituyendo una problemática compleja que integra dimensiones psicológicas, sociales, culturales y biológicas. No existe una definición única y universal, pero en el ámbito de la salud pública y la psicología se reconoce como una acción autoinfligida con el propósito directo de provocar la muerte, bien sea de manera activa o pasiva {cite}`psicysalud2021,oms2025,ops2025`.\n",
    "\n",
    "<p style=\"text-align: justify;\">\n",
    "El suicidio es una de las principales causas de muerte en numerosos países y, según la Organización Mundial de la Salud, más de 720,000 personas fallecen anualmente por esta causa, situándose entre las primeras causas de muerte en adolescentes y adultos jóvenes. Los intentos de suicidio y la ideación suicida (pensamientos recurrentes de autolesión o muerte) forman parte del espectro del comportamiento suicida, que también incluye el suicidio consumado y otras conductas autolesivas.\n",
    "</p>\n",
    "<p style=\"text-align: justify;\">\n",
    "Diversos factores de riesgo contribuyen a la ocurrencia del suicidio. Entre los más destacados a nivel global se encuentran los trastornos psiquiátricos, especialmente la depresión, el trastorno bipolar, la esquizofrenia, los trastornos de personalidad y el abuso de sustancias psicoactivas. La literatura científica señala que hasta el 95% de quienes mueren por suicidio presentan un diagnóstico de enfermedad mental al momento del hecho, principalmente depresión. Factores adicionales como el aislamiento social, la desesperanza, los problemas económicos, las crisis familiares o personales, y la falta de redes de apoyo emocional aumentan significativamente el riesgo.\n",
    "</p>\n",
    "<p style=\"text-align: justify;\">\n",
    "El suicidio está rodeado de estigma, mitos y tabúes que dificultan su prevención y adecuado abordaje en la sociedad. Debe entenderse, además, como un evento prevenible mediante políticas integrales de salud mental, intervenciones basadas en la evidencia, y acciones intersectoriales orientadas a fortalecer los factores protectores y reducir los factores de riesgo.\n",
    "</p>\n",
    "<p style=\"text-align: justify;\">\n",
    "Esta problemática, por su trascendencia y multidimensionalidad, exige un enfoque científico, interdisciplinario y ético en el ámbito de la investigación y la intervención en salud pública.\n",
    "</p>\n",
    "\n"
   ]
  },
  {
   "cell_type": "markdown",
   "id": "f41acd2a",
   "metadata": {},
   "source": [
    "## Contexto del suicidio en Colombia."
   ]
  }
 ],
 "metadata": {
  "kernelspec": {
   "display_name": "ml_venv",
   "language": "python",
   "name": "python3"
  },
  "language_info": {
   "name": "python",
   "version": "3.9.15"
  }
 },
 "nbformat": 4,
 "nbformat_minor": 5
}
