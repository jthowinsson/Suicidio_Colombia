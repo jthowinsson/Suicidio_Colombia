{
 "cells": [
  {
   "cell_type": "markdown",
   "id": "e0823ed5",
   "metadata": {},
   "source": [
    "# Introducción"
   ]
  },
  {
   "cell_type": "markdown",
   "id": "f41acd2a",
   "metadata": {},
   "source": [
    "## Contexto del suicidio en Colombia."
   ]
  }
 ],
 "metadata": {
  "language_info": {
   "name": "python"
  }
 },
 "nbformat": 4,
 "nbformat_minor": 5
}
